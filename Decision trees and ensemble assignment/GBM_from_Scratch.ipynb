{
  "nbformat": 4,
  "nbformat_minor": 0,
  "metadata": {
    "colab": {
      "provenance": []
    },
    "kernelspec": {
      "name": "python3",
      "display_name": "Python 3"
    },
    "language_info": {
      "name": "python"
    }
  },
  "cells": [
    {
      "cell_type": "code",
      "execution_count": 1,
      "metadata": {
        "id": "eI6jtpFRw1ZR"
      },
      "outputs": [],
      "source": [
        "import numpy as np\n",
        "import pandas as pd\n",
        "from sklearn.datasets import make_regression\n",
        "from sklearn.model_selection import train_test_split\n",
        "from sklearn.metrics import mean_squared_error"
      ]
    },
    {
      "cell_type": "code",
      "source": [
        "X, y = make_regression(n_samples=500, n_features=1, noise=10, random_state=42)\n",
        "y = (y - y.min()) / (y.max() - y.min())  # Normalize target\n",
        "X_train, X_test, y_train, y_test = train_test_split(X, y, test_size=0.2, random_state=42)"
      ],
      "metadata": {
        "id": "Zx87uIxpw5Tf"
      },
      "execution_count": 2,
      "outputs": []
    },
    {
      "cell_type": "code",
      "source": [
        "class GBM:\n",
        "    def __init__(self, n_estimators=100, learning_rate=0.1):\n",
        "        self.n_estimators = n_estimators\n",
        "        self.learning_rate = learning_rate\n",
        "        self.models = []\n",
        "\n",
        "    def fit(self, X, y):\n",
        "        # Initialize residuals\n",
        "        residuals = y\n",
        "        for _ in range(self.n_estimators):\n",
        "            # Fit a simple regression tree\n",
        "            tree = DecisionTreeRegressor(max_depth=3)\n",
        "            tree.fit(X, residuals)\n",
        "            self.models.append(tree)\n",
        "            predictions = tree.predict(X)\n",
        "            residuals -= self.learning_rate * predictions\n",
        "\n",
        "    def predict(self, X):\n",
        "        pred = np.zeros(X.shape[0])\n",
        "        for model in self.models:\n",
        "            pred += self.learning_rate * model.predict(X)\n",
        "        return pred"
      ],
      "metadata": {
        "id": "67p7AYnIw7YZ"
      },
      "execution_count": 3,
      "outputs": []
    },
    {
      "cell_type": "code",
      "source": [
        "from sklearn.tree import DecisionTreeRegressor\n",
        "\n",
        "gbm = GBM(n_estimators=50, learning_rate=0.1)\n",
        "gbm.fit(X_train, y_train)\n",
        "y_pred = gbm.predict(X_test)\n"
      ],
      "metadata": {
        "id": "MtXoAVTAw9rU"
      },
      "execution_count": 4,
      "outputs": []
    },
    {
      "cell_type": "code",
      "source": [
        "print(\"MSE:\", mean_squared_error(y_test, y_pred))"
      ],
      "metadata": {
        "colab": {
          "base_uri": "https://localhost:8080/"
        },
        "id": "Mnu56w2bw_dO",
        "outputId": "aba2c00b-d775-491a-9e3c-06a9200c64e5"
      },
      "execution_count": 5,
      "outputs": [
        {
          "output_type": "stream",
          "name": "stdout",
          "text": [
            "MSE: 0.0004601841945214348\n"
          ]
        }
      ]
    }
  ]
}