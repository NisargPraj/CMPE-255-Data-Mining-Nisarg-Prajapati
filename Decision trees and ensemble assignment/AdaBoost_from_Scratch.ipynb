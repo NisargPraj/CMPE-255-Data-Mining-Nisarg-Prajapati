{
  "nbformat": 4,
  "nbformat_minor": 0,
  "metadata": {
    "colab": {
      "provenance": []
    },
    "kernelspec": {
      "name": "python3",
      "display_name": "Python 3"
    },
    "language_info": {
      "name": "python"
    }
  },
  "cells": [
    {
      "cell_type": "code",
      "execution_count": 8,
      "metadata": {
        "id": "w9mb8ux4xtDh"
      },
      "outputs": [],
      "source": [
        "import numpy as np\n",
        "from sklearn.datasets import make_classification\n",
        "from sklearn.metrics import accuracy_score\n",
        "from sklearn.model_selection import train_test_split\n",
        "from sklearn.tree import DecisionTreeClassifier\n"
      ]
    },
    {
      "cell_type": "code",
      "source": [
        "X, y = make_classification(n_samples=500, n_features=5, random_state=42)\n",
        "y = np.where(y == 0, -1, 1)  # Convert labels to {-1, 1}\n",
        "X_train, X_test, y_train, y_test = train_test_split(X, y, test_size=0.2, random_state=42)\n"
      ],
      "metadata": {
        "id": "ee1d6o-oxvKl"
      },
      "execution_count": 5,
      "outputs": []
    },
    {
      "cell_type": "code",
      "source": [
        "class AdaBoost:\n",
        "    def __init__(self, n_estimators=50):\n",
        "        self.n_estimators = n_estimators\n",
        "        self.alphas = []\n",
        "        self.models = []\n",
        "\n",
        "    def fit(self, X, y):\n",
        "        n_samples, n_features = X.shape\n",
        "        w = np.ones(n_samples) / n_samples\n",
        "        for _ in range(self.n_estimators):\n",
        "            tree = DecisionTreeClassifier(max_depth=1)\n",
        "            tree.fit(X, y, sample_weight=w)\n",
        "            y_pred = tree.predict(X)\n",
        "            err = np.sum(w * (y_pred != y)) / np.sum(w)\n",
        "            alpha = 0.5 * np.log((1 - err) / (err + 1e-10))\n",
        "            self.alphas.append(alpha)\n",
        "            self.models.append(tree)\n",
        "            w = w * np.exp(-alpha * y * y_pred)\n",
        "            w /= np.sum(w)\n",
        "\n",
        "    def predict(self, X):\n",
        "        pred = sum(alpha * model.predict(X) for alpha, model in zip(self.alphas, self.models))\n",
        "        return np.sign(pred)"
      ],
      "metadata": {
        "id": "B6YHBonoxweG"
      },
      "execution_count": 6,
      "outputs": []
    },
    {
      "cell_type": "code",
      "source": [
        "adaboost = AdaBoost(n_estimators=50)\n",
        "adaboost.fit(X_train, y_train)\n",
        "y_pred = adaboost.predict(X_test)\n",
        "\n",
        "print(\"Accuracy:\", accuracy_score(y_test, y_pred))"
      ],
      "metadata": {
        "colab": {
          "base_uri": "https://localhost:8080/"
        },
        "id": "ce75PEfoxyT6",
        "outputId": "f8978433-6c41-49c7-9238-9ede7be76e4c"
      },
      "execution_count": 9,
      "outputs": [
        {
          "output_type": "stream",
          "name": "stdout",
          "text": [
            "Accuracy: 0.93\n"
          ]
        }
      ]
    }
  ]
}